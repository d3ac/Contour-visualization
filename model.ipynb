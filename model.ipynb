{
 "cells": [
  {
   "cell_type": "code",
   "execution_count": 1,
   "metadata": {},
   "outputs": [],
   "source": [
    "import numpy as np\n",
    "import pandas as pd\n",
    "import matplotlib.pyplot as plt"
   ]
  },
  {
   "cell_type": "code",
   "execution_count": 2,
   "metadata": {},
   "outputs": [],
   "source": [
    "center = [118.750158,32.065135]"
   ]
  },
  {
   "cell_type": "code",
   "execution_count": 3,
   "metadata": {},
   "outputs": [],
   "source": [
    "data = pd.read_csv('files/processed.csv')\n",
    "x = data.iloc[:,0].values\n",
    "y = data.iloc[:,1].values\n",
    "z = data.iloc[:,2].values"
   ]
  },
  {
   "cell_type": "code",
   "execution_count": 4,
   "metadata": {},
   "outputs": [],
   "source": [
    "newx = []\n",
    "newy = []\n",
    "newz = []\n",
    "book = []\n",
    "\n",
    "def getdis(x1, y1, x2, y2):\n",
    "    disx = abs(x1 - x2)/0.006641999999999371*1000\n",
    "    disy = abs(y1 - y2)/0.008443999999997231*1000\n",
    "    return np.sqrt(disx**2 + disy**2)\n",
    "\n",
    "for i in range(len(x)):\n",
    "    if i in book:\n",
    "        continue\n",
    "    book.append(i)\n",
    "    xx = x[i]\n",
    "    yy = y[i]\n",
    "    zz = z[i]\n",
    "    cnt = 1\n",
    "    for j in range(len(x)):\n",
    "        if j in book:\n",
    "            continue\n",
    "        if getdis(x[i], y[i], x[j], y[j]) < 500:\n",
    "            xx += x[j]\n",
    "            yy += y[j]\n",
    "            zz += z[j]\n",
    "            cnt += 1\n",
    "            book.append(j)\n",
    "    newx.append(xx/cnt)\n",
    "    newy.append(yy/cnt)\n",
    "    newz.append(zz/cnt)\n",
    "\n",
    "Dis = []\n",
    "Hig = []\n",
    "\n",
    "for i in range(len(newx)):\n",
    "    Dis.append(getdis(newx[i], newy[i], center[0], center[1]))\n",
    "    Hig.append(newz[i])"
   ]
  },
  {
   "cell_type": "code",
   "execution_count": 5,
   "metadata": {},
   "outputs": [
    {
     "data": {
      "text/plain": [
       "0.006641999999999371"
      ]
     },
     "execution_count": 5,
     "metadata": {},
     "output_type": "execute_result"
    }
   ],
   "source": [
    "118.792011-118.785369"
   ]
  },
  {
   "cell_type": "code",
   "execution_count": 6,
   "metadata": {},
   "outputs": [
    {
     "data": {
      "text/plain": [
       "0.008443999999997231"
      ]
     },
     "execution_count": 6,
     "metadata": {},
     "output_type": "execute_result"
    }
   ],
   "source": [
    "32.173840-32.165396"
   ]
  },
  {
   "cell_type": "code",
   "execution_count": null,
   "metadata": {},
   "outputs": [],
   "source": []
  }
 ],
 "metadata": {
  "kernelspec": {
   "display_name": "Python 3",
   "language": "python",
   "name": "python3"
  },
  "language_info": {
   "codemirror_mode": {
    "name": "ipython",
    "version": 3
   },
   "file_extension": ".py",
   "mimetype": "text/x-python",
   "name": "python",
   "nbconvert_exporter": "python",
   "pygments_lexer": "ipython3",
   "version": "3.9.13"
  }
 },
 "nbformat": 4,
 "nbformat_minor": 2
}
